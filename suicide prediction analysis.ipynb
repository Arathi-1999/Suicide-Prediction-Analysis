{
 "cells": [
  {
   "cell_type": "code",
   "execution_count": 1,
   "id": "e830c8db",
   "metadata": {},
   "outputs": [],
   "source": [
    "import numpy as np\n",
    "import pandas as pd\n",
    "import matplotlib.pyplot as plt\n",
    "import seaborn as sns\n"
   ]
  },
  {
   "cell_type": "code",
   "execution_count": 2,
   "id": "a5267627",
   "metadata": {},
   "outputs": [
    {
     "name": "stdout",
     "output_type": "stream",
     "text": [
      "(43776, 6)\n"
     ]
    },
    {
     "data": {
      "text/html": [
       "<div>\n",
       "<style scoped>\n",
       "    .dataframe tbody tr th:only-of-type {\n",
       "        vertical-align: middle;\n",
       "    }\n",
       "\n",
       "    .dataframe tbody tr th {\n",
       "        vertical-align: top;\n",
       "    }\n",
       "\n",
       "    .dataframe thead th {\n",
       "        text-align: right;\n",
       "    }\n",
       "</style>\n",
       "<table border=\"1\" class=\"dataframe\">\n",
       "  <thead>\n",
       "    <tr style=\"text-align: right;\">\n",
       "      <th></th>\n",
       "      <th>country</th>\n",
       "      <th>year</th>\n",
       "      <th>sex</th>\n",
       "      <th>age</th>\n",
       "      <th>suicides_no</th>\n",
       "      <th>population</th>\n",
       "    </tr>\n",
       "  </thead>\n",
       "  <tbody>\n",
       "    <tr>\n",
       "      <th>6204</th>\n",
       "      <td>Brazil</td>\n",
       "      <td>1979</td>\n",
       "      <td>female</td>\n",
       "      <td>15-24 years</td>\n",
       "      <td>385.0</td>\n",
       "      <td>12448100.0</td>\n",
       "    </tr>\n",
       "    <tr>\n",
       "      <th>26470</th>\n",
       "      <td>Netherlands</td>\n",
       "      <td>1979</td>\n",
       "      <td>male</td>\n",
       "      <td>55-74 years</td>\n",
       "      <td>217.0</td>\n",
       "      <td>1040500.0</td>\n",
       "    </tr>\n",
       "    <tr>\n",
       "      <th>26471</th>\n",
       "      <td>Netherlands</td>\n",
       "      <td>1979</td>\n",
       "      <td>male</td>\n",
       "      <td>75+ years</td>\n",
       "      <td>93.0</td>\n",
       "      <td>235800.0</td>\n",
       "    </tr>\n",
       "    <tr>\n",
       "      <th>2615</th>\n",
       "      <td>Austria</td>\n",
       "      <td>1979</td>\n",
       "      <td>male</td>\n",
       "      <td>75+ years</td>\n",
       "      <td>NaN</td>\n",
       "      <td>141900.0</td>\n",
       "    </tr>\n",
       "    <tr>\n",
       "      <th>2614</th>\n",
       "      <td>Austria</td>\n",
       "      <td>1979</td>\n",
       "      <td>male</td>\n",
       "      <td>55-74 years</td>\n",
       "      <td>NaN</td>\n",
       "      <td>573800.0</td>\n",
       "    </tr>\n",
       "  </tbody>\n",
       "</table>\n",
       "</div>"
      ],
      "text/plain": [
       "           country  year     sex          age  suicides_no  population\n",
       "6204        Brazil  1979  female  15-24 years        385.0  12448100.0\n",
       "26470  Netherlands  1979    male  55-74 years        217.0   1040500.0\n",
       "26471  Netherlands  1979    male    75+ years         93.0    235800.0\n",
       "2615       Austria  1979    male    75+ years          NaN    141900.0\n",
       "2614       Austria  1979    male  55-74 years          NaN    573800.0"
      ]
     },
     "execution_count": 2,
     "metadata": {},
     "output_type": "execute_result"
    }
   ],
   "source": [
    "data=pd.read_csv('who_suicide_statistics.csv')\n",
    "data=data.sort_values(['year'],ascending=True)\n",
    "print(data.shape)\n",
    "data.head()"
   ]
  },
  {
   "cell_type": "markdown",
   "id": "ee80c0cf",
   "metadata": {},
   "source": [
    "# Data visualization"
   ]
  },
  {
   "cell_type": "code",
   "execution_count": 3,
   "id": "e333b6bd",
   "metadata": {},
   "outputs": [
    {
     "name": "stderr",
     "output_type": "stream",
     "text": [
      "C:\\Users\\Arati\\AppData\\Local\\Temp\\ipykernel_12728\\1269735299.py:5: DeprecationWarning: `np.bool` is a deprecated alias for the builtin `bool`. To silence this warning, use `bool` by itself. Doing this will not modify any behavior and is safe. If you specifically wanted the numpy scalar type, use `np.bool_` here.\n",
      "Deprecated in NumPy 1.20; for more details and guidance: https://numpy.org/devdocs/release/1.20.0-notes.html#deprecations\n",
      "  sns.heatmap(corr,mask=np.zeros_like(corr,dtype=np.bool),\n"
     ]
    },
    {
     "data": {
      "text/plain": [
       "<AxesSubplot:>"
      ]
     },
     "execution_count": 3,
     "metadata": {},
     "output_type": "execute_result"
    },
    {
     "data": {
      "image/png": "[encoded data removed]",
      "text/plain": [
       "<Figure size 288x216 with 2 Axes>"
      ]
     },
     "metadata": {
      "needs_background": "light"
     },
     "output_type": "display_data"
    }
   ],
   "source": [
    "# correlation plot\n",
    "f,ax=plt.subplots(figsize=(4,3))\n",
    "\n",
    "corr=data.corr()\n",
    "sns.heatmap(corr,mask=np.zeros_like(corr,dtype=np.bool),\n",
    "           cmap=sns.diverging_palette(3,3,as_cmap=True),square=True,ax=ax)"
   ]
  },
  {
   "cell_type": "code",
   "execution_count": 4,
   "id": "2ddfa75c",
   "metadata": {},
   "outputs": [
    {
     "data": {
      "text/plain": [
       "Index(['country', 'year', 'gender', 'age', 'suicides', 'population'], dtype='object')"
      ]
     },
     "execution_count": 4,
     "metadata": {},
     "output_type": "execute_result"
    }
   ],
   "source": [
    "# renaming the columns\n",
    "\n",
    "data.rename({'sex' : 'gender', 'suicides_no' : 'suicides'}, inplace = True, axis = 1)\n",
    "\n",
    "data.columns"
   ]
  },
  {
   "cell_type": "code",
   "execution_count": 5,
   "id": "7bd2985d",
   "metadata": {},
   "outputs": [
    {
     "name": "stdout",
     "output_type": "stream",
     "text": [
      "<class 'pandas.core.frame.DataFrame'>\n",
      "Int64Index: 43776 entries, 6204 to 25858\n",
      "Data columns (total 6 columns):\n",
      " #   Column      Non-Null Count  Dtype  \n",
      "---  ------      --------------  -----  \n",
      " 0   country     43776 non-null  object \n",
      " 1   year        43776 non-null  int64  \n",
      " 2   gender      43776 non-null  object \n",
      " 3   age         43776 non-null  object \n",
      " 4   suicides    41520 non-null  float64\n",
      " 5   population  38316 non-null  float64\n",
      "dtypes: float64(2), int64(1), object(3)\n",
      "memory usage: 1.8+ MB\n"
     ]
    }
   ],
   "source": [
    "data.info()"
   ]
  },
  {
   "cell_type": "code",
   "execution_count": 6,
   "id": "20f6d78c",
   "metadata": {},
   "outputs": [
    {
     "data": {
      "text/html": [
       "<div>\n",
       "<style scoped>\n",
       "    .dataframe tbody tr th:only-of-type {\n",
       "        vertical-align: middle;\n",
       "    }\n",
       "\n",
       "    .dataframe tbody tr th {\n",
       "        vertical-align: top;\n",
       "    }\n",
       "\n",
       "    .dataframe thead th {\n",
       "        text-align: right;\n",
       "    }\n",
       "</style>\n",
       "<table border=\"1\" class=\"dataframe\">\n",
       "  <thead>\n",
       "    <tr style=\"text-align: right;\">\n",
       "      <th></th>\n",
       "      <th>year</th>\n",
       "      <th>suicides</th>\n",
       "      <th>population</th>\n",
       "    </tr>\n",
       "  </thead>\n",
       "  <tbody>\n",
       "    <tr>\n",
       "      <th>count</th>\n",
       "      <td>43776.000000</td>\n",
       "      <td>41520.000000</td>\n",
       "      <td>3.831600e+04</td>\n",
       "    </tr>\n",
       "    <tr>\n",
       "      <th>mean</th>\n",
       "      <td>1998.502467</td>\n",
       "      <td>193.315390</td>\n",
       "      <td>1.664091e+06</td>\n",
       "    </tr>\n",
       "    <tr>\n",
       "      <th>std</th>\n",
       "      <td>10.338711</td>\n",
       "      <td>800.589926</td>\n",
       "      <td>3.647231e+06</td>\n",
       "    </tr>\n",
       "    <tr>\n",
       "      <th>min</th>\n",
       "      <td>1979.000000</td>\n",
       "      <td>0.000000</td>\n",
       "      <td>2.590000e+02</td>\n",
       "    </tr>\n",
       "    <tr>\n",
       "      <th>25%</th>\n",
       "      <td>1990.000000</td>\n",
       "      <td>1.000000</td>\n",
       "      <td>8.511275e+04</td>\n",
       "    </tr>\n",
       "    <tr>\n",
       "      <th>50%</th>\n",
       "      <td>1999.000000</td>\n",
       "      <td>14.000000</td>\n",
       "      <td>3.806550e+05</td>\n",
       "    </tr>\n",
       "    <tr>\n",
       "      <th>75%</th>\n",
       "      <td>2007.000000</td>\n",
       "      <td>91.000000</td>\n",
       "      <td>1.305698e+06</td>\n",
       "    </tr>\n",
       "    <tr>\n",
       "      <th>max</th>\n",
       "      <td>2016.000000</td>\n",
       "      <td>22338.000000</td>\n",
       "      <td>4.380521e+07</td>\n",
       "    </tr>\n",
       "  </tbody>\n",
       "</table>\n",
       "</div>"
      ],
      "text/plain": [
       "               year      suicides    population\n",
       "count  43776.000000  41520.000000  3.831600e+04\n",
       "mean    1998.502467    193.315390  1.664091e+06\n",
       "std       10.338711    800.589926  3.647231e+06\n",
       "min     1979.000000      0.000000  2.590000e+02\n",
       "25%     1990.000000      1.000000  8.511275e+04\n",
       "50%     1999.000000     14.000000  3.806550e+05\n",
       "75%     2007.000000     91.000000  1.305698e+06\n",
       "max     2016.000000  22338.000000  4.380521e+07"
      ]
     },
     "execution_count": 6,
     "metadata": {},
     "output_type": "execute_result"
    }
   ],
   "source": [
    "data.describe()"
   ]
  },
  {
   "cell_type": "code",
   "execution_count": 7,
   "id": "d450cb74",
   "metadata": {},
   "outputs": [
    {
     "data": {
      "text/plain": [
       "country          0\n",
       "year             0\n",
       "gender           0\n",
       "age              0\n",
       "suicides      2256\n",
       "population    5460\n",
       "dtype: int64"
      ]
     },
     "execution_count": 7,
     "metadata": {},
     "output_type": "execute_result"
    }
   ],
   "source": [
    "data.isnull().sum()"
   ]
  },
  {
   "cell_type": "code",
   "execution_count": 8,
   "id": "d66659cd",
   "metadata": {},
   "outputs": [
    {
     "data": {
      "text/plain": [
       "141"
      ]
     },
     "execution_count": 8,
     "metadata": {},
     "output_type": "execute_result"
    }
   ],
   "source": [
    "data['country'].value_counts().count()"
   ]
  },
  {
   "cell_type": "code",
   "execution_count": 9,
   "id": "f6446031",
   "metadata": {},
   "outputs": [
    {
     "data": {
      "image/png": "[encoded data removed]",
      "text/plain": [
       "<Figure size 1728x576 with 1 Axes>"
      ]
     },
     "metadata": {
      "needs_background": "light"
     },
     "output_type": "display_data"
    }
   ],
   "source": [
    "# visualizing the different countries distribution in the dataset\n",
    "\n",
    "data['country'].value_counts(normalize=True)\n",
    "data['country'].value_counts(dropna=False).plot.bar(color='cyan',figsize=(24,8))\n",
    "plt.title('Distribution of 141 countries in suicide')\n",
    "plt.xlabel('country name')\n",
    "plt.ylabel('count')\n",
    "plt.show()"
   ]
  },
  {
   "cell_type": "code",
   "execution_count": 10,
   "id": "d183da05",
   "metadata": {},
   "outputs": [
    {
     "data": {
      "text/plain": [
       "38"
      ]
     },
     "execution_count": 10,
     "metadata": {},
     "output_type": "execute_result"
    }
   ],
   "source": [
    "data['year'].value_counts().count()\n"
   ]
  },
  {
   "cell_type": "code",
   "execution_count": 11,
   "id": "5e8301f8",
   "metadata": {},
   "outputs": [
    {
     "data": {
      "image/png": "[encoded data removed]",
      "text/plain": [
       "<Figure size 576x432 with 1 Axes>"
      ]
     },
     "metadata": {
      "needs_background": "light"
     },
     "output_type": "display_data"
    }
   ],
   "source": [
    "# visualizing the different year distribution in the dataset\n",
    "\n",
    "data['year'].value_counts(normalize=True)\n",
    "data['year'].value_counts(dropna = False,).plot.bar(color = 'magenta', figsize = (8, 6))\n",
    "\n",
    "plt.title('Distribution of suicides from the year 1985 to 2016')\n",
    "plt.xlabel('year')\n",
    "plt.ylabel('count')\n",
    "plt.show()\n",
    "     \n"
   ]
  },
  {
   "cell_type": "code",
   "execution_count": 12,
   "id": "b40122cc",
   "metadata": {},
   "outputs": [
    {
     "data": {
      "text/plain": [
       "0    21888\n",
       "1    21888\n",
       "Name: gender, dtype: int64"
      ]
     },
     "execution_count": 12,
     "metadata": {},
     "output_type": "execute_result"
    }
   ],
   "source": [
    "# label encoding for gender\n",
    "\n",
    "from sklearn.preprocessing import LabelEncoder\n",
    "\n",
    "# creating an encoder\n",
    "le = LabelEncoder()\n",
    "data['gender'] = le.fit_transform(data['gender'])\n",
    "\n",
    "data['gender'].value_counts()\n",
    "     "
   ]
  },
  {
   "cell_type": "code",
   "execution_count": 13,
   "id": "070cab79",
   "metadata": {},
   "outputs": [],
   "source": [
    "# replacing categorical values in the age column\n",
    "\n",
    "data['age'] = data['age'].replace('5-14 years', 0)\n",
    "data['age'] = data['age'].replace('15-24 years', 1)\n",
    "data['age'] = data['age'].replace('25-34 years', 2)\n",
    "data['age'] = data['age'].replace('35-54 years', 3)\n",
    "data['age'] = data['age'].replace('55-74 years', 4)\n",
    "data['age'] = data['age'].replace('75+ years', 5)\n",
    "\n",
    "#data['age'].value_counts()"
   ]
  },
  {
   "cell_type": "code",
   "execution_count": 14,
   "id": "fef567f5",
   "metadata": {},
   "outputs": [
    {
     "data": {
      "image/png": "[encoded data removed]",
      "text/plain": [
       "<Figure size 432x288 with 1 Axes>"
      ]
     },
     "metadata": {
      "needs_background": "light"
     },
     "output_type": "display_data"
    }
   ],
   "source": [
    "# suicides in different age groups\n",
    "\n",
    "x1 = data[data['age'] == 0]['suicides'].sum()\n",
    "x2 = data[data['age'] == 1]['suicides'].sum()\n",
    "x3 = data[data['age'] == 2]['suicides'].sum()\n",
    "x4 = data[data['age'] == 3]['suicides'].sum()\n",
    "x5 = data[data['age'] == 4]['suicides'].sum()\n",
    "x6 = data[data['age'] == 5]['suicides'].sum()\n",
    "\n",
    "x = pd.DataFrame([x1, x2, x3, x4, x5, x6])\n",
    "x.index = ['5-14', '15-24', '25-34', '35-54', '55-74', '75+']\n",
    "x.plot(kind = 'bar', color = 'grey')\n",
    "\n",
    "plt.title('suicides in different age groups')\n",
    "plt.xlabel('Age Group')\n",
    "plt.ylabel('count')\n",
    "plt.show()"
   ]
  },
  {
   "cell_type": "code",
   "execution_count": 15,
   "id": "22707659",
   "metadata": {},
   "outputs": [
    {
     "data": {
      "image/png": "[encoded data removed]",
      "text/plain": [
       "<Figure size 288x216 with 1 Axes>"
      ]
     },
     "metadata": {
      "needs_background": "light"
     },
     "output_type": "display_data"
    }
   ],
   "source": [
    "# visualising the gender distribution in the dataset\n",
    "\n",
    "data['gender'].value_counts(normalize = True)\n",
    "data['gender'].value_counts(dropna = False).plot.bar(color = 'black', figsize = (4, 3))\n",
    "\n",
    "plt.title('Distribution of 141 coutries in suicides')\n",
    "plt.xlabel('gender')\n",
    "plt.ylabel('count')\n",
    "plt.show()\n",
    "     "
   ]
  },
  {
   "cell_type": "code",
   "execution_count": 16,
   "id": "7a101e76",
   "metadata": {},
   "outputs": [
    {
     "data": {
      "text/plain": [
       "63761315943.0"
      ]
     },
     "execution_count": 16,
     "metadata": {},
     "output_type": "execute_result"
    }
   ],
   "source": [
    "# total population of 141 countres over which the suicides survey is committed\n",
    "\n",
    "data['population'].sum()"
   ]
  },
  {
   "cell_type": "code",
   "execution_count": 17,
   "id": "eef9f771",
   "metadata": {},
   "outputs": [
    {
     "name": "stdout",
     "output_type": "stream",
     "text": [
      "1664091.1353742562\n"
     ]
    }
   ],
   "source": [
    "# Average population\n",
    "\n",
    "Avg_pop = data['population'].mean()\n",
    "print(Avg_pop)\n",
    "     "
   ]
  },
  {
   "cell_type": "code",
   "execution_count": 18,
   "id": "898082e9",
   "metadata": {},
   "outputs": [
    {
     "data": {
      "text/plain": [
       "8026455.0"
      ]
     },
     "execution_count": 18,
     "metadata": {},
     "output_type": "execute_result"
    }
   ],
   "source": [
    "# total number of suicides committed in the 141 countries from 1985 to 2016\n",
    "\n",
    "data['suicides'].sum()"
   ]
  },
  {
   "cell_type": "code",
   "execution_count": 19,
   "id": "8b316ea7",
   "metadata": {},
   "outputs": [
    {
     "name": "stdout",
     "output_type": "stream",
     "text": [
      "193.3153901734104\n"
     ]
    }
   ],
   "source": [
    "# Average suicide in the world\n",
    "\n",
    "Avg_sui = data['suicides'].mean()\n",
    "print(Avg_sui)\n",
    "     "
   ]
  },
  {
   "cell_type": "code",
   "execution_count": 20,
   "id": "6bf6e2c4",
   "metadata": {},
   "outputs": [
    {
     "data": {
      "text/plain": [
       "False"
      ]
     },
     "execution_count": 20,
     "metadata": {},
     "output_type": "execute_result"
    }
   ],
   "source": [
    "# Imputing the NaN values from the population column\n",
    "\n",
    "data['population'] = data['population'].fillna(data['population'].median())\n",
    "data['population'].isnull().any()"
   ]
  },
  {
   "cell_type": "code",
   "execution_count": 21,
   "id": "e3b630e6",
   "metadata": {},
   "outputs": [
    {
     "data": {
      "text/plain": [
       "False"
      ]
     },
     "execution_count": 21,
     "metadata": {},
     "output_type": "execute_result"
    }
   ],
   "source": [
    "# Imputing the values suicides no column\n",
    "\n",
    "data['suicides'] = data['suicides'].fillna(0)\n",
    "data['suicides'].isnull().any()"
   ]
  },
  {
   "cell_type": "code",
   "execution_count": 22,
   "id": "a7362ef7",
   "metadata": {},
   "outputs": [
    {
     "data": {
      "text/html": [
       "<div>\n",
       "<style scoped>\n",
       "    .dataframe tbody tr th:only-of-type {\n",
       "        vertical-align: middle;\n",
       "    }\n",
       "\n",
       "    .dataframe tbody tr th {\n",
       "        vertical-align: top;\n",
       "    }\n",
       "\n",
       "    .dataframe thead th {\n",
       "        text-align: right;\n",
       "    }\n",
       "</style>\n",
       "<table border=\"1\" class=\"dataframe\">\n",
       "  <thead>\n",
       "    <tr style=\"text-align: right;\">\n",
       "      <th></th>\n",
       "      <th>country</th>\n",
       "      <th>year</th>\n",
       "      <th>gender</th>\n",
       "      <th>age</th>\n",
       "      <th>population</th>\n",
       "      <th>suicides</th>\n",
       "    </tr>\n",
       "  </thead>\n",
       "  <tbody>\n",
       "  </tbody>\n",
       "</table>\n",
       "</div>"
      ],
      "text/plain": [
       "Empty DataFrame\n",
       "Columns: [country, year, gender, age, population, suicides]\n",
       "Index: []"
      ]
     },
     "execution_count": 22,
     "metadata": {},
     "output_type": "execute_result"
    }
   ],
   "source": [
    "# rearranging the columns \n",
    "\n",
    "data = data[['country', 'year', 'gender', 'age', 'population', 'suicides']]\n",
    "data.head(0)\n",
    "     "
   ]
  },
  {
   "cell_type": "code",
   "execution_count": 23,
   "id": "5810748d",
   "metadata": {},
   "outputs": [
    {
     "data": {
      "text/html": [
       "<div>\n",
       "<style scoped>\n",
       "    .dataframe tbody tr th:only-of-type {\n",
       "        vertical-align: middle;\n",
       "    }\n",
       "\n",
       "    .dataframe tbody tr th {\n",
       "        vertical-align: top;\n",
       "    }\n",
       "\n",
       "    .dataframe thead th {\n",
       "        text-align: right;\n",
       "    }\n",
       "</style>\n",
       "<table border=\"1\" class=\"dataframe\">\n",
       "  <thead>\n",
       "    <tr style=\"text-align: right;\">\n",
       "      <th></th>\n",
       "      <th>year</th>\n",
       "      <th>gender</th>\n",
       "      <th>age</th>\n",
       "      <th>population</th>\n",
       "      <th>suicides</th>\n",
       "    </tr>\n",
       "  </thead>\n",
       "  <tbody>\n",
       "  </tbody>\n",
       "</table>\n",
       "</div>"
      ],
      "text/plain": [
       "Empty DataFrame\n",
       "Columns: [year, gender, age, population, suicides]\n",
       "Index: []"
      ]
     },
     "execution_count": 23,
     "metadata": {},
     "output_type": "execute_result"
    }
   ],
   "source": [
    "# Removing the country Column\n",
    "\n",
    "data = data.drop(['country'], axis = 1)\n",
    "data.head(0)"
   ]
  },
  {
   "cell_type": "code",
   "execution_count": 24,
   "id": "639c3912",
   "metadata": {},
   "outputs": [
    {
     "name": "stdout",
     "output_type": "stream",
     "text": [
      "(43776, 4)\n",
      "(43776,)\n"
     ]
    }
   ],
   "source": [
    "#splitting the data into dependent and independent variables\n",
    "\n",
    "x = data.iloc[:,:-1]\n",
    "y = data.iloc[:,-1]\n",
    "\n",
    "print(x.shape)\n",
    "print(y.shape)"
   ]
  },
  {
   "cell_type": "code",
   "execution_count": 25,
   "id": "a332049f",
   "metadata": {},
   "outputs": [
    {
     "name": "stdout",
     "output_type": "stream",
     "text": [
      "(32832, 4)\n",
      "(32832,)\n",
      "(10944, 4)\n",
      "(10944,)\n"
     ]
    }
   ],
   "source": [
    "# splitting the dataset into training and testing sets\n",
    "\n",
    "from sklearn.model_selection import train_test_split\n",
    "\n",
    "x_train, x_test, y_train, y_test = train_test_split(x, y, test_size = 0.25, random_state = 45)\n",
    "\n",
    "print(x_train.shape)\n",
    "print(y_train.shape)\n",
    "print(x_test.shape)\n",
    "print(y_test.shape)\n",
    "     "
   ]
  },
  {
   "cell_type": "code",
   "execution_count": 26,
   "id": "40f284db",
   "metadata": {},
   "outputs": [],
   "source": [
    "# min max scaling\n",
    "\n",
    "# importing the min max scaler\n",
    "from sklearn.preprocessing import MinMaxScaler\n",
    "\n",
    "# creating a scaler\n",
    "mm = MinMaxScaler()\n",
    "\n",
    "# scaling the independent variables\n",
    "x_train = mm.fit_transform(x_train)\n",
    "x_test = mm.transform(x_test)"
   ]
  },
  {
   "cell_type": "code",
   "execution_count": 27,
   "id": "8afb730e",
   "metadata": {},
   "outputs": [],
   "source": [
    "# using principal component analysis\n",
    "\n",
    "from sklearn.decomposition import PCA\n",
    "\n",
    "# creating a principal component analysis model\n",
    "#pca = PCA(n_components = None)\n",
    "\n",
    "# feeding the independent variables to the PCA model\n",
    "#x_train = pca.fit_transform(x_train)\n",
    "#x_test = pca.transform(x_test)\n",
    "\n",
    "# visualising the principal components that will explain the highest share of variance\n",
    "#explained_variance = pca.explained_variance_ratio_\n",
    "#print(explained_variance)\n",
    "\n",
    "# creating a principal component analysis model\n",
    "#pca = PCA(n_components = 1)\n",
    "\n",
    "# feeding the independent variables to the PCA model\n",
    "#x_train = pca.fit_transform(x_train)\n",
    "#x_test = pca.transform(x_test)"
   ]
  },
  {
   "cell_type": "code",
   "execution_count": 28,
   "id": "a8e0cae7",
   "metadata": {},
   "outputs": [
    {
     "data": {
      "image/png": "[encoded data removed]",
      "text/plain": [
       "<Figure size 432x288 with 1 Axes>"
      ]
     },
     "metadata": {
      "needs_background": "light"
     },
     "output_type": "display_data"
    }
   ],
   "source": [
    "# applying k means clustering\n",
    "\n",
    "# selecting the best choice for no. of clusters\n",
    "from sklearn.cluster import KMeans\n",
    "\n",
    "wcss = []\n",
    "for i in range(1, 11):\n",
    "    km = KMeans(n_clusters = i, init = 'k-means++', max_iter = 300, n_init = 10, random_state = 0)\n",
    "    km.fit(x_train)\n",
    "    wcss.append(km.inertia_)\n",
    "    \n",
    "  \n",
    "plt.plot(range(1, 11), wcss)\n",
    "plt.title('The Elbow Method')\n",
    "plt.xlabel('no. of clusters')\n",
    "plt.ylabel('WCSS')\n",
    "plt.show()\n"
   ]
  },
  {
   "cell_type": "code",
   "execution_count": 29,
   "id": "421e3f04",
   "metadata": {},
   "outputs": [
    {
     "data": {
      "image/png": "[encoded data removed]",
      "text/plain": [
       "<Figure size 432x288 with 1 Axes>"
      ]
     },
     "metadata": {
      "needs_background": "light"
     },
     "output_type": "display_data"
    }
   ],
   "source": [
    "# applying kmeans with 4 clusters\n",
    "\n",
    "km = KMeans(n_clusters = 4, init = 'k-means++', max_iter = 300, n_init = 10, random_state = 0)\n",
    "y_means = km.fit_predict(x_train)\n",
    "\n",
    "# visualising the clusters\n",
    "\n",
    "plt.scatter(x_train[y_means == 0, 0], x_train[y_means == 0, 1], s = 100, c = 'pink', label = 'cluster 1')\n",
    "plt.scatter(x_train[y_means == 1, 0], x_train[y_means == 1, 1], s = 100, c = 'cyan', label = 'cluster 2')\n",
    "plt.scatter(x_train[y_means == 2, 0], x_train[y_means == 2, 1], s = 100, c = 'magenta', label = 'cluster 3')\n",
    "plt.scatter(x_train[y_means == 3, 0], x_train[y_means == 3, 1], s = 100, c = 'violet', label = 'cluster 4')\n",
    "\n",
    "plt.scatter(km.cluster_centers_[:,0], km.cluster_centers_[:,1], s = 100, c = 'red', label = 'centroids')\n",
    "\n",
    "plt.title('Cluster of Clients')\n",
    "plt.xlabel('cc')\n",
    "plt.show()\n",
    "\n",
    "     "
   ]
  },
  {
   "cell_type": "code",
   "execution_count": 30,
   "id": "807c457a",
   "metadata": {},
   "outputs": [
    {
     "name": "stdout",
     "output_type": "stream",
     "text": [
      "MSE : 356895.26574870356\n",
      "RMSE : 597.4071189303853\n",
      "r2_score : 0.3911230760802389\n"
     ]
    }
   ],
   "source": [
    "from sklearn.linear_model import LinearRegression\n",
    "from sklearn.metrics import r2_score\n",
    "\n",
    "# creating the model\n",
    "model = LinearRegression()\n",
    "\n",
    "# feeding the training data into the model\n",
    "model.fit(x_train, y_train)\n",
    "\n",
    "# predicting the test set results\n",
    "y_pred = model.predict(x_test)\n",
    "\n",
    "# calculating the mean squared error\n",
    "mse = np.mean((y_test - y_pred)**2)\n",
    "print(\"MSE :\", mse)\n",
    "\n",
    "# calculating the root mean squared error\n",
    "rmse = np.sqrt(mse)\n",
    "print(\"RMSE :\", rmse)\n",
    "\n",
    "#calculating the r2 score\n",
    "r2 = r2_score(y_test, y_pred)\n",
    "print(\"r2_score :\", r2)"
   ]
  },
  {
   "cell_type": "code",
   "execution_count": 31,
   "id": "4e9100f3",
   "metadata": {},
   "outputs": [
    {
     "name": "stdout",
     "output_type": "stream",
     "text": [
      "MSE : 561498.366917432\n",
      "RMSE : 749.3319470818204\n",
      "r2_score : 0.04206238847846855\n"
     ]
    }
   ],
   "source": [
    "from sklearn.svm import SVR\n",
    "\n",
    "# creating the model\n",
    "model = SVR()\n",
    "\n",
    "# feeding the training data into the model\n",
    "model.fit(x_train, y_train)\n",
    "\n",
    "# predicting the test set results\n",
    "y_pred = model.predict(x_test)\n",
    "\n",
    "# calculating the mean squared error\n",
    "mse = np.mean((y_test - y_pred)**2)\n",
    "print(\"MSE :\", mse)\n",
    "\n",
    "# calculating the root mean squared error\n",
    "rmse = np.sqrt(mse)\n",
    "print(\"RMSE :\", rmse)\n",
    "\n",
    "#calculating the r2 score\n",
    "r2 = r2_score(y_test, y_pred)\n",
    "print(\"r2_score :\", r2)\n"
   ]
  },
  {
   "cell_type": "code",
   "execution_count": 32,
   "id": "65457dc2",
   "metadata": {},
   "outputs": [
    {
     "name": "stdout",
     "output_type": "stream",
     "text": [
      "MSE : 80968.68116265886\n",
      "RMSE : 284.54996250686605\n",
      "r2_score : 0.861864344384796\n"
     ]
    }
   ],
   "source": [
    "from sklearn.ensemble import RandomForestRegressor\n",
    "\n",
    "# creating the model\n",
    "model = RandomForestRegressor()\n",
    "\n",
    "# feeding the training data into the model\n",
    "model.fit(x_train, y_train)\n",
    "\n",
    "# predicting the test set results\n",
    "y_pred = model.predict(x_test)\n",
    "\n",
    "# calculating the mean squared error\n",
    "mse = np.mean((y_test - y_pred)**2)\n",
    "print(\"MSE :\", mse)\n",
    "\n",
    "# calculating the root mean squared error\n",
    "rmse = np.sqrt(mse)\n",
    "print(\"RMSE :\", rmse)\n",
    "\n",
    "#calculating the r2 score\n",
    "r2 = r2_score(y_test, y_pred)\n",
    "print(\"r2_score :\", r2)\n",
    "\n",
    "     "
   ]
  },
  {
   "cell_type": "code",
   "execution_count": 33,
   "id": "07511b9b",
   "metadata": {},
   "outputs": [
    {
     "name": "stdout",
     "output_type": "stream",
     "text": [
      "MSE : 150019.76546714373\n",
      "RMSE : 387.32385088856034\n",
      "r2_score : 0.7440605631650059\n"
     ]
    }
   ],
   "source": [
    "from sklearn.tree import DecisionTreeRegressor\n",
    "\n",
    "# creating the model\n",
    "model = DecisionTreeRegressor()\n",
    "\n",
    "# feeding the training data into the model\n",
    "model.fit(x_train, y_train)\n",
    "\n",
    "# predicting the test set results\n",
    "y_pred = model.predict(x_test)\n",
    "\n",
    "# calculating the mean squared error\n",
    "mse = np.mean((y_test - y_pred)**2)\n",
    "print(\"MSE :\", mse)\n",
    "\n",
    "# calculating the root mean squared error\n",
    "rmse = np.sqrt(mse)\n",
    "print(\"RMSE :\", rmse)\n",
    "\n",
    "#calculating the r2 score\n",
    "r2 = r2_score(y_test, y_pred)\n",
    "print(\"r2_score :\", r2)"
   ]
  },
  {
   "cell_type": "code",
   "execution_count": 34,
   "id": "60bfa570",
   "metadata": {},
   "outputs": [
    {
     "name": "stdout",
     "output_type": "stream",
     "text": [
      "MSE : 267336.8379548155\n",
      "RMSE : 517.0462628767522\n",
      "r2_score : 0.5439131667860286\n"
     ]
    }
   ],
   "source": [
    "from sklearn.ensemble import AdaBoostRegressor\n",
    "\n",
    "# creating the model\n",
    "model = AdaBoostRegressor()\n",
    "\n",
    "# feeding the training data into the model\n",
    "model.fit(x_train, y_train)\n",
    "\n",
    "# predicting the test set results\n",
    "y_pred = model.predict(x_test)\n",
    "\n",
    "# calculating the mean squared error\n",
    "mse = np.mean((y_test - y_pred)**2)\n",
    "print(\"MSE :\", mse)\n",
    "\n",
    "# calculating the root mean squared error\n",
    "rmse = np.sqrt(mse)\n",
    "print(\"RMSE :\", rmse)\n",
    "\n",
    "#calculating the r2 score\n",
    "r2 = r2_score(y_test, y_pred)\n",
    "print(\"r2_score :\", r2)\n"
   ]
  },
  {
   "cell_type": "code",
   "execution_count": null,
   "id": "7046d788",
   "metadata": {},
   "outputs": [],
   "source": [
    "from sklearn.neural_network import MLPClassifier\n",
    "\n",
    "# creating the model\n",
    "model = MLPClassifier(hidden_layer_sizes = 100, max_iter = 50 )\n",
    "\n",
    "# feeding the training data into the model\n",
    "model.fit(x_train, y_train)\n",
    "\n",
    "# predicting the test set results\n",
    "y_pred = model.predict(x_test)\n",
    "\n",
    "# calculating the mean squared error\n",
    "mse = np.mean((y_test - y_pred)**2)\n",
    "print(\"MSE :\", mse)\n",
    "\n",
    "# calculating the root mean squared error\n",
    "rmse = np.sqrt(mse)\n",
    "print(\"RMSE :\", rmse)\n",
    "\n",
    "#calculating the r2 score\n",
    "r2 = r2_score(y_test, y_pred)\n",
    "print(\"r2_score :\", r2)"
   ]
  },
  {
   "cell_type": "code",
   "execution_count": null,
   "id": "b8914d6b",
   "metadata": {},
   "outputs": [],
   "source": []
  }
 ],
 "metadata": {
  "kernelspec": {
   "display_name": "Python 3 (ipykernel)",
   "language": "python",
   "name": "python3"
  },
  "language_info": {
   "codemirror_mode": {
    "name": "ipython",
    "version": 3
   },
   "file_extension": ".py",
   "mimetype": "text/x-python",
   "name": "python",
   "nbconvert_exporter": "python",
   "pygments_lexer": "ipython3",
   "version": "3.9.12"
  }
 },
 "nbformat": 4,
 "nbformat_minor": 5
}
